{
 "cells": [
  {
   "cell_type": "code",
   "execution_count": null,
   "id": "eb590c66",
   "metadata": {},
   "outputs": [],
   "source": [
    "# how to compute the probability that a value lies within a range under a normal distribution, using the Cumulative Distribution Function (CDF).\n",
    "# We want to find: What is the probability that a randomly chosen value from a normal distribution is between 62 and 66?\n",
    "from scipy.stats import norm"
   ]
  },
  {
   "cell_type": "code",
   "execution_count": 2,
   "id": "969b4d8e",
   "metadata": {},
   "outputs": [],
   "source": [
    "mean = 64.43\n",
    "std_dev = 2.99"
   ]
  },
  {
   "cell_type": "code",
   "execution_count": 6,
   "id": "9881cf85",
   "metadata": {},
   "outputs": [],
   "source": [
    "x = norm.cdf(66, mean, std_dev) - norm.cdf(62, mean, std_dev) # Probability that a value is ≤ 66 - Probability that a value is ≤ 62\n"
   ]
  },
  {
   "cell_type": "code",
   "execution_count": 4,
   "id": "5e3a598e",
   "metadata": {},
   "outputs": [
    {
     "name": "stdout",
     "output_type": "stream",
     "text": [
      "0.4920450147062894\n"
     ]
    }
   ],
   "source": [
    "print(x) # prints 0.4920450147062894"
   ]
  },
  {
   "cell_type": "code",
   "execution_count": null,
   "id": "ea808eab",
   "metadata": {},
   "outputs": [],
   "source": []
  }
 ],
 "metadata": {
  "kernelspec": {
   "display_name": "Python 3",
   "language": "python",
   "name": "python3"
  },
  "language_info": {
   "codemirror_mode": {
    "name": "ipython",
    "version": 3
   },
   "file_extension": ".py",
   "mimetype": "text/x-python",
   "name": "python",
   "nbconvert_exporter": "python",
   "pygments_lexer": "ipython3",
   "version": "3.13.2"
  }
 },
 "nbformat": 4,
 "nbformat_minor": 5
}
