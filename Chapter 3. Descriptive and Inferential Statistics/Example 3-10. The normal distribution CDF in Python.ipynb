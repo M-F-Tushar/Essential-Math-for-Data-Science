{
 "cells": [
  {
   "cell_type": "code",
   "execution_count": null,
   "id": "43f6ad11",
   "metadata": {},
   "outputs": [],
   "source": [
    "from scipy.stats import norm\n",
    "# scipy.stats.norm is a class that represents the normal (Gaussian) distribution.\n",
    "\n",
    "# It provides functions like:\n",
    "\n",
    "# pdf() – probability density function\n",
    "\n",
    "# cdf() – cumulative distribution function\n",
    "\n",
    "# ppf() – percent-point function (inverse of CDF)\n",
    "\n"
   ]
  },
  {
   "cell_type": "code",
   "execution_count": null,
   "id": "a4e77609",
   "metadata": {},
   "outputs": [],
   "source": [
    "mean = 64.43 # This is the center of the normal distribution (μ).\n",
    "std_dev = 2.99 # This is the spread (standard deviation, σ), indicating how much data varies from the mean."
   ]
  },
  {
   "cell_type": "code",
   "execution_count": null,
   "id": "c975849e",
   "metadata": {},
   "outputs": [],
   "source": [
    "x = norm.cdf(64.43, mean, std_dev) # The CDF (Cumulative Distribution Function) gives the probability that a normally distributed variable is less than or equal to a certain value."
   ]
  },
  {
   "cell_type": "code",
   "execution_count": null,
   "id": "722bd3e9",
   "metadata": {},
   "outputs": [
    {
     "name": "stdout",
     "output_type": "stream",
     "text": [
      "0.5\n"
     ]
    }
   ],
   "source": [
    "print(x) # What is the probability that a value drawn from this normal distribution is less than or equal to 64.43?"
   ]
  },
  {
   "cell_type": "code",
   "execution_count": null,
   "id": "348c9dac",
   "metadata": {},
   "outputs": [],
   "source": []
  }
 ],
 "metadata": {
  "kernelspec": {
   "display_name": "Python 3",
   "language": "python",
   "name": "python3"
  },
  "language_info": {
   "codemirror_mode": {
    "name": "ipython",
    "version": 3
   },
   "file_extension": ".py",
   "mimetype": "text/x-python",
   "name": "python",
   "nbconvert_exporter": "python",
   "pygments_lexer": "ipython3",
   "version": "3.13.2"
  }
 },
 "nbformat": 4,
 "nbformat_minor": 5
}
