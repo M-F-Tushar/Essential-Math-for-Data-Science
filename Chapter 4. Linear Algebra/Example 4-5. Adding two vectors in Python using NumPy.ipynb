{
 "cells": [
  {
   "cell_type": "code",
   "execution_count": 1,
   "id": "d1082649",
   "metadata": {},
   "outputs": [],
   "source": [
    "from numpy import array"
   ]
  },
  {
   "cell_type": "code",
   "execution_count": 2,
   "id": "a33729d8",
   "metadata": {},
   "outputs": [],
   "source": [
    "v = array([3,2])\n",
    "w = array([2,-1])"
   ]
  },
  {
   "cell_type": "code",
   "execution_count": 3,
   "id": "b3a0e7ea",
   "metadata": {},
   "outputs": [
    {
     "name": "stdout",
     "output_type": "stream",
     "text": [
      "[5 1]\n"
     ]
    }
   ],
   "source": [
    "# sum the vectors\n",
    "v_plus_w = v + w\n",
    "# display summed vector\n",
    "print(v_plus_w) # [5, 1]"
   ]
  }
 ],
 "metadata": {
  "kernelspec": {
   "display_name": "Python 3",
   "language": "python",
   "name": "python3"
  },
  "language_info": {
   "codemirror_mode": {
    "name": "ipython",
    "version": 3
   },
   "file_extension": ".py",
   "mimetype": "text/x-python",
   "name": "python",
   "nbconvert_exporter": "python",
   "pygments_lexer": "ipython3",
   "version": "3.13.2"
  }
 },
 "nbformat": 4,
 "nbformat_minor": 5
}
