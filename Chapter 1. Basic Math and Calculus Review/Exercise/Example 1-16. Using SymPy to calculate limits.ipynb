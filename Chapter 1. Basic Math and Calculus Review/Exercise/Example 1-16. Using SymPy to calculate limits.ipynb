{
 "cells": [
  {
   "cell_type": "code",
   "execution_count": 1,
   "id": "0884edf7",
   "metadata": {},
   "outputs": [],
   "source": [
    "from sympy import *"
   ]
  },
  {
   "cell_type": "code",
   "execution_count": 2,
   "id": "93f414d4",
   "metadata": {},
   "outputs": [],
   "source": [
    "x = symbols('x')\n",
    "f = 1/x\n",
    "result = limit(f, x, oo)"
   ]
  },
  {
   "cell_type": "code",
   "execution_count": 3,
   "id": "8431f696",
   "metadata": {},
   "outputs": [
    {
     "name": "stdout",
     "output_type": "stream",
     "text": [
      "0\n"
     ]
    }
   ],
   "source": [
    "print(result)"
   ]
  },
  {
   "cell_type": "markdown",
   "id": "c458d93d",
   "metadata": {},
   "source": [
    "When we calculate Euler’s number with limits in SymPy\n",
    "(shown in the following code), SymPy immediately recognizes it as Euler’s\n",
    "number. We can call evalf() so we can actually display it as a number:"
   ]
  },
  {
   "cell_type": "code",
   "execution_count": 4,
   "id": "ecbe0e93",
   "metadata": {},
   "outputs": [
    {
     "name": "stdout",
     "output_type": "stream",
     "text": [
      "E\n",
      "2.71828182845905\n"
     ]
    }
   ],
   "source": [
    "from sympy import *\n",
    "# This script demonstrates how to use the sympy library to perform symbolic mathematics.\n",
    "n = symbols('n')\n",
    "f = (1 + (1/n))**n\n",
    "result = limit(f, n, oo)\n",
    "print(result)\n",
    "# This script calculates the limit of (1 + 1/n)^n as n approaches infinity. \n",
    "# The expected result is e, the base of the natural logarithm.\n",
    "print(result.evalf()) # This prints the numerical value of e."
   ]
  },
  {
   "cell_type": "code",
   "execution_count": null,
   "id": "1d02f35b",
   "metadata": {},
   "outputs": [],
   "source": []
  }
 ],
 "metadata": {
  "kernelspec": {
   "display_name": "Python 3",
   "language": "python",
   "name": "python3"
  },
  "language_info": {
   "codemirror_mode": {
    "name": "ipython",
    "version": 3
   },
   "file_extension": ".py",
   "mimetype": "text/x-python",
   "name": "python",
   "nbconvert_exporter": "python",
   "pygments_lexer": "ipython3",
   "version": "3.13.2"
  }
 },
 "nbformat": 4,
 "nbformat_minor": 5
}
