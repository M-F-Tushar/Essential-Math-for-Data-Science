{
 "cells": [
  {
   "cell_type": "code",
   "execution_count": 1,
   "id": "4e2f7b25-bfdd-4f46-b681-fdaeb7327c2c",
   "metadata": {},
   "outputs": [
    {
     "name": "stdout",
     "output_type": "stream",
     "text": [
      "x**(-3)\n"
     ]
    }
   ],
   "source": [
    "from sympy import *\n",
    "x = symbols('x')\n",
    "expr = x**2 / x**5\n",
    "print(expr) # x**(-3)"
   ]
  },
  {
   "cell_type": "code",
   "execution_count": null,
   "id": "e5181dff-e0fa-46cc-ad22-b210113f7b26",
   "metadata": {},
   "outputs": [],
   "source": []
  }
 ],
 "metadata": {
  "kernelspec": {
   "display_name": "Python 3 (ipykernel)",
   "language": "python",
   "name": "python3"
  },
  "language_info": {
   "codemirror_mode": {
    "name": "ipython",
    "version": 3
   },
   "file_extension": ".py",
   "mimetype": "text/x-python",
   "name": "python",
   "nbconvert_exporter": "python",
   "pygments_lexer": "ipython3",
   "version": "3.13.2"
  }
 },
 "nbformat": 4,
 "nbformat_minor": 5
}
