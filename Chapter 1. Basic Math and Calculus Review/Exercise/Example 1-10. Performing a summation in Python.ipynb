{
 "cells": [
  {
   "cell_type": "markdown",
   "id": "5aead038-46fb-4b00-9398-52172cc31188",
   "metadata": {},
   "source": [
    "If I want to iterate the numbers 1 through 5, multiply each by\n",
    "2, and sum them, here is how I would express that using a summation."
   ]
  },
  {
   "cell_type": "code",
   "execution_count": 2,
   "id": "afb2a599-c465-4b75-9133-7bdebd9f1842",
   "metadata": {},
   "outputs": [
    {
     "name": "stdout",
     "output_type": "stream",
     "text": [
      "30\n"
     ]
    }
   ],
   "source": [
    "summation = sum(2*i for i in range(1,6))\n",
    "print(summation)"
   ]
  },
  {
   "cell_type": "markdown",
   "id": "670a82ab-ba78-4bd1-bdf3-a4e3dafd187d",
   "metadata": {},
   "source": [
    "i is a placeholder variable representing each consecutive index\n",
    "value we are iterating in the loop, which we multiply by 2 and then sum all\n",
    "together"
   ]
  },
  {
   "cell_type": "code",
   "execution_count": null,
   "id": "48d2e311-8a8d-4d39-be7f-3d370f0b191b",
   "metadata": {},
   "outputs": [],
   "source": []
  }
 ],
 "metadata": {
  "kernelspec": {
   "display_name": "Python 3 (ipykernel)",
   "language": "python",
   "name": "python3"
  },
  "language_info": {
   "codemirror_mode": {
    "name": "ipython",
    "version": 3
   },
   "file_extension": ".py",
   "mimetype": "text/x-python",
   "name": "python",
   "nbconvert_exporter": "python",
   "pygments_lexer": "ipython3",
   "version": "3.13.2"
  }
 },
 "nbformat": 4,
 "nbformat_minor": 5
}
