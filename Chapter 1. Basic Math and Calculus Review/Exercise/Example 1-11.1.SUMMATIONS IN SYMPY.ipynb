{
 "cells": [
  {
   "cell_type": "code",
   "execution_count": 1,
   "id": "c11b47d2-8192-46fb-86e2-0ac0e716f734",
   "metadata": {},
   "outputs": [
    {
     "name": "stdout",
     "output_type": "stream",
     "text": [
      "30\n"
     ]
    }
   ],
   "source": [
    "from sympy import *\n",
    "i,n = symbols('i n')\n",
    "# iterate each element i from 1 to n,\n",
    "# then multiply and sum\n",
    "summation = Sum(2*i,(i,1,n))\n",
    "# specify n as 5,\n",
    "# iterating the numbers 1 through 5\n",
    "up_to_5 = summation.subs(n, 5)\n",
    "print(up_to_5.doit()) # 30\n"
   ]
  },
  {
   "cell_type": "code",
   "execution_count": null,
   "id": "48f7f9d1-e0a7-43e2-ae2f-2762142b967a",
   "metadata": {},
   "outputs": [],
   "source": []
  }
 ],
 "metadata": {
  "kernelspec": {
   "display_name": "Python 3 (ipykernel)",
   "language": "python",
   "name": "python3"
  },
  "language_info": {
   "codemirror_mode": {
    "name": "ipython",
    "version": 3
   },
   "file_extension": ".py",
   "mimetype": "text/x-python",
   "name": "python",
   "nbconvert_exporter": "python",
   "pygments_lexer": "ipython3",
   "version": "3.13.2"
  }
 },
 "nbformat": 4,
 "nbformat_minor": 5
}
