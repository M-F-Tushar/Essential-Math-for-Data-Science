{
 "cells": [
  {
   "cell_type": "code",
   "execution_count": 5,
   "id": "6c80a613",
   "metadata": {},
   "outputs": [],
   "source": [
    "from scipy.stats import beta\n",
    "#This example calculates the probability that a Beta-distributed random variable falls between two values — in this case, between 0.80 and 0.90.\n",
    "\n"
   ]
  },
  {
   "cell_type": "code",
   "execution_count": 2,
   "id": "1aef8bd1",
   "metadata": {},
   "outputs": [],
   "source": [
    "a = 8\n",
    "b = 2"
   ]
  },
  {
   "cell_type": "code",
   "execution_count": 3,
   "id": "679501be",
   "metadata": {},
   "outputs": [],
   "source": [
    "p = beta.cdf(.90, a, b) - beta.cdf(.80, a, b)"
   ]
  },
  {
   "cell_type": "code",
   "execution_count": null,
   "id": "7675503b",
   "metadata": {},
   "outputs": [
    {
     "name": "stdout",
     "output_type": "stream",
     "text": [
      "0.33863336199999994\n"
     ]
    }
   ],
   "source": [
    "print(p) # For a Beta(8, 2) distribution, the probability that the random variable x falls between 0.80 and 0.90 is about 33.86%."
   ]
  }
 ],
 "metadata": {
  "kernelspec": {
   "display_name": "Python 3",
   "language": "python",
   "name": "python3"
  },
  "language_info": {
   "codemirror_mode": {
    "name": "ipython",
    "version": 3
   },
   "file_extension": ".py",
   "mimetype": "text/x-python",
   "name": "python",
   "nbconvert_exporter": "python",
   "pygments_lexer": "ipython3",
   "version": "3.13.2"
  }
 },
 "nbformat": 4,
 "nbformat_minor": 5
}
