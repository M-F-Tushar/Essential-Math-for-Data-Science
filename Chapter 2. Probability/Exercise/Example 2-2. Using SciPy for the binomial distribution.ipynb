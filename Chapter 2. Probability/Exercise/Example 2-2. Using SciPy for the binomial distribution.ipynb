{
 "cells": [
  {
   "cell_type": "code",
   "execution_count": 1,
   "id": "7b89051b",
   "metadata": {},
   "outputs": [],
   "source": [
    "from scipy.stats import binom"
   ]
  },
  {
   "cell_type": "code",
   "execution_count": null,
   "id": "5d4ed4ca",
   "metadata": {},
   "outputs": [],
   "source": [
    "n = 10 # number of trials\n",
    "p = 0.9 # probability of success on each trial"
   ]
  },
  {
   "cell_type": "code",
   "execution_count": 4,
   "id": "1439c3de",
   "metadata": {},
   "outputs": [
    {
     "name": "stdout",
     "output_type": "stream",
     "text": [
      "0 - 9.999999999999977e-11\n",
      "1 - 8.999999999999978e-09\n",
      "2 - 3.6449999999999943e-07\n",
      "3 - 8.747999999999991e-06\n",
      "4 - 0.00013778099999999974\n",
      "5 - 0.0014880347999999982\n",
      "6 - 0.011160260999999996\n",
      "7 - 0.05739562799999997\n",
      "8 - 0.1937102444999998\n",
      "9 - 0.38742048899999976\n",
      "10 - 0.3486784401000001\n"
     ]
    }
   ],
   "source": [
    "for k in range(n + 1): # k is the number of successes\n",
    "    probability = binom.pmf(k, n, p) # probability mass function - gives the probability of k successes in n trials\n",
    "    # Print the probability of exactly k successes\n",
    "    print(\"{0} - {1}\".format(k, probability))\n",
    "    \n",
    "    \n",
    "# \"{0} - {1}\" is a format string:\n",
    "\n",
    "# {0} gets replaced with the first argument (k).\n",
    "\n",
    "# {1} gets replaced with the second argument (probability).\n",
    "\n",
    "# .format(k, probability) inserts the values into the placeholders."
   ]
  },
  {
   "cell_type": "code",
   "execution_count": null,
   "id": "0d3b0124",
   "metadata": {},
   "outputs": [],
   "source": []
  }
 ],
 "metadata": {
  "kernelspec": {
   "display_name": "Python 3",
   "language": "python",
   "name": "python3"
  },
  "language_info": {
   "codemirror_mode": {
    "name": "ipython",
    "version": 3
   },
   "file_extension": ".py",
   "mimetype": "text/x-python",
   "name": "python",
   "nbconvert_exporter": "python",
   "pygments_lexer": "ipython3",
   "version": "3.13.2"
  }
 },
 "nbformat": 4,
 "nbformat_minor": 5
}
