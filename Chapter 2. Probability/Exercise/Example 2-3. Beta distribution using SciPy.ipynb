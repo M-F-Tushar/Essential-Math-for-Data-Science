{
 "cells": [
  {
   "cell_type": "code",
   "execution_count": 5,
   "id": "6004f3f1",
   "metadata": {},
   "outputs": [],
   "source": [
    "from scipy.stats import beta"
   ]
  },
  {
   "cell_type": "code",
   "execution_count": 6,
   "id": "66c46544",
   "metadata": {},
   "outputs": [],
   "source": [
    "a = 8\n",
    "b = 2"
   ]
  },
  {
   "cell_type": "code",
   "execution_count": null,
   "id": "014159b9",
   "metadata": {},
   "outputs": [
    {
     "name": "stdout",
     "output_type": "stream",
     "text": [
      "0.7748409780000002\n"
     ]
    }
   ],
   "source": [
    "p = beta.cdf(.90, a, b) # cumulative distribution function\n",
    "print(p) # \"What is the probability that the value is 0.90 or less under this Beta distribution?\""
   ]
  },
  {
   "cell_type": "code",
   "execution_count": null,
   "id": "954b4a85",
   "metadata": {},
   "outputs": [],
   "source": []
  }
 ],
 "metadata": {
  "kernelspec": {
   "display_name": "Python 3",
   "language": "python",
   "name": "python3"
  },
  "language_info": {
   "codemirror_mode": {
    "name": "ipython",
    "version": 3
   },
   "file_extension": ".py",
   "mimetype": "text/x-python",
   "name": "python",
   "nbconvert_exporter": "python",
   "pygments_lexer": "ipython3",
   "version": "3.13.2"
  }
 },
 "nbformat": 4,
 "nbformat_minor": 5
}
