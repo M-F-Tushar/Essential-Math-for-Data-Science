{
 "cells": [
  {
   "cell_type": "code",
   "execution_count": 1,
   "id": "853e52ab",
   "metadata": {},
   "outputs": [],
   "source": [
    "from scipy.stats import beta"
   ]
  },
  {
   "cell_type": "code",
   "execution_count": 2,
   "id": "1053315d",
   "metadata": {},
   "outputs": [],
   "source": [
    "a = 30\n",
    "b = 6"
   ]
  },
  {
   "cell_type": "code",
   "execution_count": 3,
   "id": "d579495c",
   "metadata": {},
   "outputs": [],
   "source": [
    "p = 1.0 - beta.cdf(.90, a, b)\n"
   ]
  },
  {
   "cell_type": "code",
   "execution_count": 5,
   "id": "3dc4ba71",
   "metadata": {},
   "outputs": [
    {
     "name": "stdout",
     "output_type": "stream",
     "text": [
      "0.13163577484183697\n"
     ]
    }
   ],
   "source": [
    "print(p) # For a Beta(30, 6) distribution, the probability that x is greater than 0.90 is about 13.16%."
   ]
  },
  {
   "cell_type": "code",
   "execution_count": null,
   "id": "f4eb7f15",
   "metadata": {},
   "outputs": [],
   "source": []
  }
 ],
 "metadata": {
  "kernelspec": {
   "display_name": "Python 3",
   "language": "python",
   "name": "python3"
  },
  "language_info": {
   "codemirror_mode": {
    "name": "ipython",
    "version": 3
   },
   "file_extension": ".py",
   "mimetype": "text/x-python",
   "name": "python",
   "nbconvert_exporter": "python",
   "pygments_lexer": "ipython3",
   "version": "3.13.2"
  }
 },
 "nbformat": 4,
 "nbformat_minor": 5
}
