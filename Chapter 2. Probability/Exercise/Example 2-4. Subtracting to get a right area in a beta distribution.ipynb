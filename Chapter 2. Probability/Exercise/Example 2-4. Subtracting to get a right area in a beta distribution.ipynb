{
 "cells": [
  {
   "cell_type": "code",
   "execution_count": 1,
   "id": "947c15a9",
   "metadata": {},
   "outputs": [],
   "source": [
    "from scipy.stats import beta"
   ]
  },
  {
   "cell_type": "code",
   "execution_count": 2,
   "id": "a5e5a0ef",
   "metadata": {},
   "outputs": [],
   "source": [
    "a = 8\n",
    "b = 2"
   ]
  },
  {
   "cell_type": "code",
   "execution_count": 3,
   "id": "6b2523ff",
   "metadata": {},
   "outputs": [],
   "source": [
    "p = 1.0 - beta.cdf(.90, a, b)"
   ]
  },
  {
   "cell_type": "code",
   "execution_count": 5,
   "id": "bc59cc4b",
   "metadata": {},
   "outputs": [
    {
     "name": "stdout",
     "output_type": "stream",
     "text": [
      "0.22515902199999982\n"
     ]
    }
   ],
   "source": [
    "print(p) # There is about a 22.52% chance that a Beta(8, 2) distributed variable is greater than 0.90."
   ]
  },
  {
   "cell_type": "code",
   "execution_count": null,
   "id": "a5d68994",
   "metadata": {},
   "outputs": [],
   "source": []
  }
 ],
 "metadata": {
  "kernelspec": {
   "display_name": "Python 3",
   "language": "python",
   "name": "python3"
  },
  "language_info": {
   "codemirror_mode": {
    "name": "ipython",
    "version": 3
   },
   "file_extension": ".py",
   "mimetype": "text/x-python",
   "name": "python",
   "nbconvert_exporter": "python",
   "pygments_lexer": "ipython3",
   "version": "3.13.2"
  }
 },
 "nbformat": 4,
 "nbformat_minor": 5
}
